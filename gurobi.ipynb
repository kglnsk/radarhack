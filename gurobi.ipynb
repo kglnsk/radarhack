{
 "cells": [
  {
   "cell_type": "code",
   "execution_count": 25,
   "id": "7ec5da00-3dea-431b-8a42-90ce5333bb53",
   "metadata": {},
   "outputs": [],
   "source": [
    "import scipy.sparse as sp\n",
    "import networkx as nx\n",
    "import numpy as np\n",
    "import pandas as pd\n",
    "from gurobi_optimods.mwis import maximum_weighted_independent_set"
   ]
  },
  {
   "cell_type": "code",
   "execution_count": 26,
   "id": "73268ef2-7654-425c-b00a-835e3dc199ae",
   "metadata": {},
   "outputs": [],
   "source": [
    "# Graph adjacency matrix (upper triangular) as a sparse matrix.\n",
    "#r = (1 - pd.read_csv('independent_matrix.csv',sep ='   ', header = None).values) - np.eye(28)\n",
    "\n",
    "# Create a 28x28 matrix of random 0s and 1s\n",
    "r = np.random.randint(0, 2, size=(28, 28))\n",
    "\n",
    "# Set the diagonal to zeros\n",
    "np.fill_diagonal(r, 0)\n",
    "\n",
    "adjacency_matrix = sp.triu(sp.coo_array(r))\n",
    "# Vertex weights\n",
    "weights = np.array([6.7871,0.4965,0.5813,6.3638,7.7534,6.7388,2.1945,5.7203,2.5396,0.0394,12.3052,5.3397,0.7031,4.5140,1.4971,5.8530,1.8569,3.5543,1.9219,11.8509,2.2925,5.1243,9.2748,2.9068,5.4177,3.3817,3.5976,0.5599])"
   ]
  },
  {
   "cell_type": "code",
   "execution_count": 27,
   "id": "110de182-78b4-4921-8136-9a58e7e4e3c1",
   "metadata": {},
   "outputs": [
    {
     "name": "stdout",
     "output_type": "stream",
     "text": [
      "68.4 ms ± 1.08 ms per loop (mean ± std. dev. of 7 runs, 10 loops each)\n"
     ]
    }
   ],
   "source": [
    "%%timeit\n",
    "mwis = maximum_weighted_independent_set(adjacency_matrix, weights,verbose = False)"
   ]
  },
  {
   "cell_type": "code",
   "execution_count": 28,
   "id": "f971c0a4-61c6-4a0a-af3e-c752f3d25b72",
   "metadata": {},
   "outputs": [
    {
     "name": "stdout",
     "output_type": "stream",
     "text": [
      "Restricted license - for non-production use only - expires 2025-11-24\n",
      "Gurobi Optimizer version 11.0.1 build v11.0.1rc0 (linux64 - \"Ubuntu 22.04.4 LTS\")\n",
      "\n",
      "CPU model: 12th Gen Intel(R) Core(TM) i5-12500H, instruction set [SSE2|AVX|AVX2]\n",
      "Thread count: 16 physical cores, 16 logical processors, using up to 16 threads\n",
      "\n",
      "Optimize a model with 182 rows, 28 columns and 364 nonzeros\n",
      "Model fingerprint: 0x9dc6c368\n",
      "Variable types: 0 continuous, 28 integer (28 binary)\n",
      "Coefficient statistics:\n",
      "  Matrix range     [1e+00, 1e+00]\n",
      "  Objective range  [4e-02, 1e+01]\n",
      "  Bounds range     [1e+00, 1e+00]\n",
      "  RHS range        [1e+00, 1e+00]\n",
      "Found heuristic solution: objective 23.6801000\n",
      "Presolve removed 135 rows and 0 columns\n",
      "Presolve time: 0.00s\n",
      "Presolved: 47 rows, 28 columns, 214 nonzeros\n",
      "Variable types: 0 continuous, 28 integer (28 binary)\n",
      "Found heuristic solution: objective 31.9419000\n",
      "\n",
      "Root relaxation: objective 3.838580e+01, 22 iterations, 0.00 seconds (0.00 work units)\n",
      "\n",
      "    Nodes    |    Current Node    |     Objective Bounds      |     Work\n",
      " Expl Unexpl |  Obj  Depth IntInf | Incumbent    BestBd   Gap | It/Node Time\n",
      "\n",
      "*    0     0               0      38.3858000   38.38580  0.00%     -    0s\n",
      "\n",
      "Explored 1 nodes (22 simplex iterations) in 0.00 seconds (0.00 work units)\n",
      "Thread count was 16 (of 16 available processors)\n",
      "\n",
      "Solution count 3: 38.3858 31.9419 23.6801 \n",
      "\n",
      "Optimal solution found (tolerance 1.00e-04)\n",
      "Best objective 3.838580000000e+01, best bound 3.838580000000e+01, gap 0.0000%\n",
      "38.385799999999996\n"
     ]
    }
   ],
   "source": [
    "mwis = maximum_weighted_independent_set(adjacency_matrix, weights,verbose = True)\n",
    "print(weights[mwis].sum())"
   ]
  }
 ],
 "metadata": {
  "kernelspec": {
   "display_name": "Python 3 (ipykernel)",
   "language": "python",
   "name": "python3"
  },
  "language_info": {
   "codemirror_mode": {
    "name": "ipython",
    "version": 3
   },
   "file_extension": ".py",
   "mimetype": "text/x-python",
   "name": "python",
   "nbconvert_exporter": "python",
   "pygments_lexer": "ipython3",
   "version": "3.9.16"
  }
 },
 "nbformat": 4,
 "nbformat_minor": 5
}
